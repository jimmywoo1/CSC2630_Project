{
 "cells": [
  {
   "cell_type": "code",
   "execution_count": null,
   "metadata": {},
   "outputs": [],
   "source": [
    "from FMTPlanner import FMTPlanner\n",
    "from utils import load_image\n",
    "\n",
    "\n",
    "import numpy as np\n",
    "from State import State\n",
    "import cv2"
   ]
  },
  {
   "cell_type": "code",
   "execution_count": 1,
   "metadata": {},
   "outputs": [
    {
     "ename": "NameError",
     "evalue": "name 'load_image' is not defined",
     "output_type": "error",
     "traceback": [
      "\u001b[0;31m---------------------------------------------------------------------------\u001b[0m",
      "\u001b[0;31mNameError\u001b[0m                                 Traceback (most recent call last)",
      "Cell \u001b[0;32mIn [1], line 1\u001b[0m\n\u001b[0;32m----> 1\u001b[0m rgbworld \u001b[39m=\u001b[39m load_image(\u001b[39m'\u001b[39m\u001b[39mMaps/map.png\u001b[39m\u001b[39m'\u001b[39m)\n\u001b[1;32m      2\u001b[0m world \u001b[39m=\u001b[39m (rgbworld[:,:,\u001b[39m0\u001b[39m] \u001b[39m==\u001b[39m \u001b[39m0\u001b[39m)\u001b[39m.\u001b[39mastype(np\u001b[39m.\u001b[39muint8)\u001b[39m.\u001b[39mtranspose()\n",
      "\u001b[0;31mNameError\u001b[0m: name 'load_image' is not defined"
     ]
    }
   ],
   "source": [
    "rgbworld = load_image('Maps/map.png')\n",
    "world = (rgbworld[:,:,0] == 0).astype(np.uint8).transpose()"
   ]
  },
  {
   "cell_type": "code",
   "execution_count": null,
   "metadata": {},
   "outputs": [],
   "source": [
    "planner = FMTPlanner(world=rgbworld, n_samples=1000)"
   ]
  },
  {
   "cell_type": "code",
   "execution_count": null,
   "metadata": {},
   "outputs": [],
   "source": [
    "planner.plan([538, 60], [60, 1130])"
   ]
  },
  {
   "cell_type": "code",
   "execution_count": null,
   "metadata": {},
   "outputs": [],
   "source": [
    "rgbworld = np.transpose(rgbworld,(1,0,2))"
   ]
  },
  {
   "cell_type": "code",
   "execution_count": null,
   "metadata": {},
   "outputs": [],
   "source": [
    "start = State([60, 538])\n",
    "target = State([1130, 60])\n",
    "prng = np.random.RandomState(0)\n",
    "node_list = list()\n",
    "while len(node_list) < 1000:\n",
    "    # sample a d-dimensional State from a uniform distribution\n",
    "    x_rand = int(prng.uniform(0, world.shape[0]))\n",
    "    y_rand = int(prng.uniform(0, world.shape[1]))\n",
    "    sample = State([x_rand, y_rand])\n",
    "    node_list.append(sample)"
   ]
  },
  {
   "cell_type": "code",
   "execution_count": null,
   "metadata": {},
   "outputs": [],
   "source": [
    "img = np.copy(rgbworld)\n",
    "# Plot start and target\n",
    "cv2.circle(img, (start.v[0], start.v[1]), 10, (65, 200, 245), -1)\n",
    "cv2.imshow('image', img)\n",
    "cv2.waitKey(100)\n",
    "cv2.circle(img, (target.v[0], target.v[1]), 10, (65, 245, 100), -1)\n",
    "cv2.imshow('image', img)\n",
    "cv2.waitKey(100)\n",
    "# Plot the sampled points\n",
    "for i in range(1,len(node_list)-1):\n",
    "    sample = node_list[i]\n",
    "    cv2.circle(img, (sample.v[0], sample.v[1]), 2, (245, 95, 65))\n",
    "    cv2.imshow('image', img)\n",
    "    cv2.waitKey(10)"
   ]
  }
 ],
 "metadata": {
  "kernelspec": {
   "display_name": "Python 3.9.12 ('csc2630')",
   "language": "python",
   "name": "python3"
  },
  "language_info": {
   "codemirror_mode": {
    "name": "ipython",
    "version": 3
   },
   "file_extension": ".py",
   "mimetype": "text/x-python",
   "name": "python",
   "nbconvert_exporter": "python",
   "pygments_lexer": "ipython3",
   "version": "3.9.15"
  },
  "orig_nbformat": 4,
  "vscode": {
   "interpreter": {
    "hash": "fbbe5e413ab2f8457690f5010cb0bbdee73956f67983fd8fa345c89e9a3b1d84"
   }
  }
 },
 "nbformat": 4,
 "nbformat_minor": 2
}
